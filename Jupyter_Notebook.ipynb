{
 "cells": [
  {
   "cell_type": "markdown",
   "metadata": {},
   "source": [
    "# DATA SCIENCE TOOLS AND ECOSYSTEM"
   ]
  },
  {
   "cell_type": "markdown",
   "metadata": {},
   "source": [
    "In this notebook, Data Science Tools and Ecosystem are summarized."
   ]
  },
  {
   "cell_type": "markdown",
   "metadata": {},
   "source": [
    "Some of the popular languages that Data Scientists use are:\n",
    "1. R\n",
    "2. PYTHON\n",
    "3. SQL\n",
    "4. JAVA\n",
    "5. C++"
   ]
  },
  {
   "cell_type": "markdown",
   "metadata": {},
   "source": [
    "SOME OF THE COMMONLY USED LIBRARIES FOR DATA SCIENCE\n",
    "1. TENSORFLOW\n",
    "2. PANDAS\n",
    "3. NUMPY\n",
    "4. MATPLOTLIB\n",
    "5. KERAS"
   ]
  },
  {
   "cell_type": "markdown",
   "metadata": {
    "tags": []
   },
   "source": [
    "| DATA SCIENCE TOOLS|\n",
    "|---|\n",
    "|APACHE HADOOP|\n",
    "|TENSORFLOW|\n",
    "|SAS|"
   ]
  },
  {
   "cell_type": "markdown",
   "metadata": {},
   "source": [
    "### BELOW ARE FEW EXAMPLES OF EVALUATING ARITHMETIC EXPRESSIONS IN PYTHON"
   ]
  },
  {
   "cell_type": "code",
   "execution_count": 2,
   "metadata": {
    "tags": []
   },
   "outputs": [
    {
     "data": {
      "text/plain": [
       "17"
      ]
     },
     "execution_count": 2,
     "metadata": {},
     "output_type": "execute_result"
    }
   ],
   "source": [
    "#THIS IS A SIMPLE ARITHMETIC EXAMPLE TO MULTIPLY AND ADD AN INTEGER\n",
    "(3*4)+5"
   ]
  },
  {
   "cell_type": "code",
   "execution_count": 3,
   "metadata": {
    "tags": []
   },
   "outputs": [
    {
     "data": {
      "text/plain": [
       "3.3333333333333335"
      ]
     },
     "execution_count": 3,
     "metadata": {},
     "output_type": "execute_result"
    }
   ],
   "source": [
    "#THIS WILL CONVERT 200 MINUTES INTO HOURS BY DIVIDING BY 60\n",
    "200/60"
   ]
  },
  {
   "cell_type": "markdown",
   "metadata": {},
   "source": [
    "_OBJECTIVE_\n",
    "* LIST POPULAR DATA SCIENCE TOOLS\n",
    "* LIST DATA SCIENCE LIBRARIES \n",
    "* LIST DATA SCIENCE LANGUAGES\n",
    "* HOW TO ADD COMMENTS\n",
    "* CREATING A TABLE"
   ]
  },
  {
   "cell_type": "markdown",
   "metadata": {},
   "source": [
    "## AUTHOR NAME\n",
    "ANJAN KISHORE G"
   ]
  },
  {
   "cell_type": "code",
   "execution_count": null,
   "metadata": {},
   "outputs": [],
   "source": []
  }
 ],
 "metadata": {
  "kernelspec": {
   "display_name": "Python",
   "language": "python",
   "name": "conda-env-python-py"
  },
  "language_info": {
   "codemirror_mode": {
    "name": "ipython",
    "version": 3
   },
   "file_extension": ".py",
   "mimetype": "text/x-python",
   "name": "python",
   "nbconvert_exporter": "python",
   "pygments_lexer": "ipython3",
   "version": "3.7.12"
  },
  "toc-autonumbering": false,
  "toc-showmarkdowntxt": true,
  "toc-showtags": false
 },
 "nbformat": 4,
 "nbformat_minor": 4
}
